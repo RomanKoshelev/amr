{
 "cells": [
  {
   "cell_type": "code",
   "execution_count": 7,
   "metadata": {},
   "outputs": [],
   "source": [
    "import random"
   ]
  },
  {
   "cell_type": "code",
   "execution_count": 528,
   "metadata": {},
   "outputs": [],
   "source": [
    "# Formal\n",
    "digits = [0, 1, 10, 24, 45.67, 12432]\n",
    "opers  = ['+', '-', '/', '*']\n",
    "exprs  = [0+1, 10-24, 45.67*12432, 1+2*4, (3-1)*4+7]\n",
    "\n"
   ]
  },
  {
   "cell_type": "code",
   "execution_count": 529,
   "metadata": {},
   "outputs": [],
   "source": [
    "def gen_digit(d1=0, d2=100):\n",
    "    return random.randrange(d1,d2)"
   ]
  },
  {
   "cell_type": "code",
   "execution_count": 530,
   "metadata": {},
   "outputs": [],
   "source": [
    "def gen_oper():\n",
    "    return random.choice(opers)"
   ]
  },
  {
   "cell_type": "code",
   "execution_count": 531,
   "metadata": {},
   "outputs": [],
   "source": [
    "def gen_exp(op, d1, d2):\n",
    "    return f\"{d1}{op}{d2}\""
   ]
  },
  {
   "cell_type": "code",
   "execution_count": 532,
   "metadata": {},
   "outputs": [
    {
     "data": {
      "text/plain": [
       "'54-26'"
      ]
     },
     "execution_count": 532,
     "metadata": {},
     "output_type": "execute_result"
    }
   ],
   "source": [
    "d1=gen_digit()\n",
    "d2=gen_digit()\n",
    "op=gen_oper()\n",
    "exp = gen_exp(op, d1, d2)\n",
    "exp"
   ]
  },
  {
   "cell_type": "code",
   "execution_count": 533,
   "metadata": {},
   "outputs": [],
   "source": [
    "def nl_digit(d):\n",
    "    assert d<1000*1000*1000*1000\n",
    "    names={\n",
    "        '0':        [\"ноль\"],\n",
    "        '1..10':    [\"один\", \"два\", \"три\", \"четыре\", \"пять\", \"шесть\", \"семь\", \"восемь\", \"девять\", \"деcять\"],\n",
    "        '11..19':   [\"одиннадцать\", \"двенадцать\", \"тринадцать\", \"четырнадцать\", \"пятнадцать\", \"шестнадцать\", \"семнадцать\", \"восемнадцать\", \"девятнадцать\"],\n",
    "        '20..90':   [\"десять\", \"двадцать\", \"тридцать\", \"сорок\", \"пятьдесят\", \"шестьдесят\", \"семьдесят\", \"восемьдесят\", \"девяносто\"],\n",
    "        '100..900': [\"сто\", \"двести\", \"триста\", \"четыреста\", \"пятьсот\", \"шестьсот\", \"семьсот\", \"восемьсот\", \"девятьсот\"],\n",
    "        'D':        [\"десяток\"],\n",
    "        'C':        [\"сотня\"],\n",
    "        'K':        [\"тысяча\"],\n",
    "        'M':        [\"миллион\"],\n",
    "        'B':        [\"миллиард\"],\n",
    "    }\n",
    "    \n",
    "    if d == 0:\n",
    "        s = names['0'][0]\n",
    "    elif d<=10:\n",
    "        s = names['1..10'][d-1]\n",
    "    elif d<20:\n",
    "        s = names['11..19'][d-11]\n",
    "    elif d<100:\n",
    "        s1 = names['20..90'][d//10-1]\n",
    "        s2 = nl_digit(d%10)\n",
    "        s = f\"{s1} {s2}\"    \n",
    "    elif d<1000:\n",
    "        s1 = names['100..900'][d//100-1]\n",
    "        s2 = nl_digit(d%100)\n",
    "        s = f\"{s1} {s2}\"\n",
    "    elif d<1000*1000:\n",
    "        k = d//1000\n",
    "        s1 = nl_digit(k)\n",
    "        s2 = names['K'][0]\n",
    "        s3 = nl_digit(d%1000)\n",
    "        s = f\"{s1} {s2} {s3}\"    \n",
    "    elif d<1000*1000*1000:\n",
    "        k = d//1000000\n",
    "        s1 = nl_digit(k)\n",
    "        s2 = names['M'][0]\n",
    "        s3 = nl_digit(d%1000000)\n",
    "        s = f\"{s1} {s2} {s3}\"\n",
    "    elif d<1000*1000*1000*1000:\n",
    "        k = d//1000000000\n",
    "        s1 = nl_digit(k)\n",
    "        s2 = names['B'][0]\n",
    "        s3 = nl_digit(d%1000000000)\n",
    "        s = f\"{s1} {s2} {s3}\"\n",
    "\n",
    "    s = s.replace(\" ноль\", \"\")\n",
    "    \n",
    "    s = s.replace(\"один тысяча\", \"одна тысяча\")\n",
    "    s = s.replace(\"два тысяча\", \"две тысячи\")\n",
    "    s = s.replace(\"три тысяча\", \"три тысячи\")\n",
    "    s = s.replace(\"четыре тысяча\", \"четыре тысячи\")\n",
    "    s = s.replace(\"пять тысяча\", \"пять тысяч\")\n",
    "    s = s.replace(\"шесть тысяча\", \"шесть тысяч\")\n",
    "    s = s.replace(\"восемь тысяча\", \"восемь тысяч\")\n",
    "    s = s.replace(\"семь тысяча\", \"семь тысяч\")\n",
    "    s = s.replace(\"девять тысяча\", \"девять тысяч\")\n",
    "    s = s.replace(\"деcять тысяча\", \"деcять тысяч\")\n",
    "    s = s.replace(\"дцать тысяча\", \"дцать тысяч\")\n",
    "    s = s.replace(\"сорок тысяча\", \"сорок тысяч\")\n",
    "    s = s.replace(\"сят тысяча\", \"сят тысяч\")\n",
    "    s = s.replace(\"сто тысяча\", \"сто тысяч\")\n",
    "    s = s.replace(\"сти тысяча\", \"сти тысяч\")\n",
    "    s = s.replace(\"ста тысяча\", \"ста тысяч\")\n",
    "    s = s.replace(\"сот тысяча\", \"сот тысяч\")\n",
    "    \n",
    "    s = s.replace(\"два миллион\", \"два миллиона\")\n",
    "    s = s.replace(\"три миллион\", \"три миллиона\")\n",
    "    s = s.replace(\"четыре миллион\", \"четыре миллиона\")\n",
    "    s = s.replace(\"пять миллион\", \"пять миллионов\")\n",
    "    s = s.replace(\"шесть миллион\", \"шесть миллионов\")\n",
    "    s = s.replace(\"восемь миллион\", \"восемь миллионов\")\n",
    "    s = s.replace(\"семь миллион\", \"семь миллионов\")\n",
    "    s = s.replace(\"девять миллион\", \"девять миллионов\")\n",
    "    s = s.replace(\"деcять миллион\", \"деcять миллионов\")\n",
    "    s = s.replace(\"дцать миллион\", \"дцать миллионов\")\n",
    "    s = s.replace(\"сорок миллион\", \"сорок миллионов\")\n",
    "    s = s.replace(\"сят миллион\", \"сят миллионов\")\n",
    "    s = s.replace(\"сто миллион\", \"сто миллионов\")\n",
    "    s = s.replace(\"сти миллион\", \"сти миллионов\")\n",
    "    s = s.replace(\"ста миллион\", \"ста миллионов\")\n",
    "    s = s.replace(\"сот миллион\", \"сот миллионов\")\n",
    "    \n",
    "    s = s.replace(\"два миллиард\", \"два миллиарда\")\n",
    "    s = s.replace(\"три миллиард\", \"три миллиарда\")\n",
    "    s = s.replace(\"четыре миллиард\", \"четыре миллиарда\")\n",
    "    s = s.replace(\"пять миллиард\", \"пять миллиардов\")\n",
    "    s = s.replace(\"шесть миллиард\", \"шесть миллиардов\")\n",
    "    s = s.replace(\"восемь миллиард\", \"восемь миллиардов\")\n",
    "    s = s.replace(\"семь миллиард\", \"семь миллиардов\")\n",
    "    s = s.replace(\"девять миллиард\", \"девять миллиардов\")\n",
    "    s = s.replace(\"деcять миллиард\", \"деcять миллиардов\")\n",
    "    s = s.replace(\"дцать миллиард\", \"дцать миллиардов\")\n",
    "    s = s.replace(\"сорок миллиард\", \"сорок миллиардов\")\n",
    "    s = s.replace(\"сят миллиард\", \"сят миллиардов\")\n",
    "    s = s.replace(\"сто миллиард\", \"сто миллиардов\")\n",
    "    s = s.replace(\"сти миллиард\", \"сти миллиардов\")\n",
    "    s = s.replace(\"ста миллиард\", \"ста миллиардов\")\n",
    "    s = s.replace(\"сот миллиард\", \"сот миллиардов\")\n",
    "    \n",
    "    s = s.replace(\"овов\", \"ов\")\n",
    "    s = s.replace(\"наа\", \"на\")\n",
    "\n",
    "    return s"
   ]
  },
  {
   "cell_type": "code",
   "execution_count": 534,
   "metadata": {},
   "outputs": [
    {
     "data": {
      "text/plain": [
       "'998 = девятьсот девяносто восемь'"
      ]
     },
     "execution_count": 534,
     "metadata": {},
     "output_type": "execute_result"
    }
   ],
   "source": [
    "d = gen_digit(0, random.choice([100,1000,100*1000,100*1000*1000, 1000*1000*1000*1000]))\n",
    "s = nl_digit(d)\n",
    "f\"{d} = {s}\""
   ]
  },
  {
   "cell_type": "code",
   "execution_count": 535,
   "metadata": {},
   "outputs": [],
   "source": [
    "def nl_operation(op):\n",
    "    op_names = {\n",
    "        '+': [\"плюс\"],\n",
    "        '-': [\"минус\"],\n",
    "        '*': [\"умножить на\"],\n",
    "        '/': [\"разделить на\"],\n",
    "    } \n",
    "    return op_names[op][0]"
   ]
  },
  {
   "cell_type": "code",
   "execution_count": 560,
   "metadata": {},
   "outputs": [
    {
     "data": {
      "text/plain": [
       "'320*568 => триста двадцать умножить на пятьсот шестьдесят восемь'"
      ]
     },
     "execution_count": 560,
     "metadata": {},
     "output_type": "execute_result"
    }
   ],
   "source": [
    "d1 = gen_digit(0, 1000)\n",
    "d2 = gen_digit(0, 1000)\n",
    "op = gen_oper()\n",
    "s1 = nl_digit(d1)\n",
    "s2 = nl_digit(d2)\n",
    "sop= nl_operation(op)\n",
    "exp= f\"{s1} {sop} {s2}\"\n",
    "f\"{d1}{op}{d2} => {exp}\""
   ]
  },
  {
   "cell_type": "code",
   "execution_count": 568,
   "metadata": {},
   "outputs": [
    {
     "data": {
      "text/plain": [
       "8.0"
      ]
     },
     "execution_count": 568,
     "metadata": {},
     "output_type": "execute_result"
    }
   ],
   "source": [
    "(2+3*14)/2-(6+7+1)\n",
    "# два плюс три множенное на четырнадцать и все это поделить на два и вычесть шесть плюс семь плюс один"
   ]
  },
  {
   "cell_type": "code",
   "execution_count": null,
   "metadata": {},
   "outputs": [],
   "source": []
  },
  {
   "cell_type": "code",
   "execution_count": null,
   "metadata": {},
   "outputs": [],
   "source": []
  },
  {
   "cell_type": "code",
   "execution_count": null,
   "metadata": {},
   "outputs": [],
   "source": []
  },
  {
   "cell_type": "code",
   "execution_count": null,
   "metadata": {},
   "outputs": [],
   "source": []
  },
  {
   "cell_type": "code",
   "execution_count": null,
   "metadata": {},
   "outputs": [],
   "source": []
  },
  {
   "cell_type": "code",
   "execution_count": null,
   "metadata": {},
   "outputs": [],
   "source": []
  }
 ],
 "metadata": {
  "kernelspec": {
   "display_name": "Python 3",
   "language": "python",
   "name": "python3"
  },
  "language_info": {
   "codemirror_mode": {
    "name": "ipython",
    "version": 3
   },
   "file_extension": ".py",
   "mimetype": "text/x-python",
   "name": "python",
   "nbconvert_exporter": "python",
   "pygments_lexer": "ipython3",
   "version": "3.6.5"
  }
 },
 "nbformat": 4,
 "nbformat_minor": 2
}
